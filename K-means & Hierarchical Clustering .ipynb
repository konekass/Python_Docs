{
 "cells": [
  {
   "cell_type": "code",
   "execution_count": 35,
   "id": "69e42d74",
   "metadata": {},
   "outputs": [
    {
     "data": {
      "text/plain": [
       "CUST_ID                               0\n",
       "BALANCE                               0\n",
       "BALANCE_FREQUENCY                     0\n",
       "PURCHASES                             0\n",
       "ONEOFF_PURCHASES                      0\n",
       "INSTALLMENTS_PURCHASES                0\n",
       "CASH_ADVANCE                          0\n",
       "PURCHASES_FREQUENCY                   0\n",
       "ONEOFF_PURCHASES_FREQUENCY            0\n",
       "PURCHASES_INSTALLMENTS_FREQUENCY      0\n",
       "CASH_ADVANCE_FREQUENCY                0\n",
       "CASH_ADVANCE_TRX                      0\n",
       "PURCHASES_TRX                         0\n",
       "CREDIT_LIMIT                          1\n",
       "PAYMENTS                              0\n",
       "MINIMUM_PAYMENTS                    313\n",
       "PRC_FULL_PAYMENT                      0\n",
       "TENURE                                0\n",
       "dtype: int64"
      ]
     },
     "execution_count": 35,
     "metadata": {},
     "output_type": "execute_result"
    }
   ],
   "source": [
    "import pandas as pd\n",
    "data=pd.read_csv(\"CC.csv\")\n",
    "data.isnull().sum()"
   ]
  },
  {
   "cell_type": "code",
   "execution_count": 36,
   "id": "86ea14f8",
   "metadata": {},
   "outputs": [
    {
     "data": {
      "text/html": [
       "<div>\n",
       "<style scoped>\n",
       "    .dataframe tbody tr th:only-of-type {\n",
       "        vertical-align: middle;\n",
       "    }\n",
       "\n",
       "    .dataframe tbody tr th {\n",
       "        vertical-align: top;\n",
       "    }\n",
       "\n",
       "    .dataframe thead th {\n",
       "        text-align: right;\n",
       "    }\n",
       "</style>\n",
       "<table border=\"1\" class=\"dataframe\">\n",
       "  <thead>\n",
       "    <tr style=\"text-align: right;\">\n",
       "      <th></th>\n",
       "      <th>CUST_ID</th>\n",
       "      <th>BALANCE</th>\n",
       "      <th>BALANCE_FREQUENCY</th>\n",
       "      <th>PURCHASES</th>\n",
       "      <th>ONEOFF_PURCHASES</th>\n",
       "      <th>INSTALLMENTS_PURCHASES</th>\n",
       "      <th>CASH_ADVANCE</th>\n",
       "      <th>PURCHASES_FREQUENCY</th>\n",
       "      <th>ONEOFF_PURCHASES_FREQUENCY</th>\n",
       "      <th>PURCHASES_INSTALLMENTS_FREQUENCY</th>\n",
       "      <th>CASH_ADVANCE_FREQUENCY</th>\n",
       "      <th>CASH_ADVANCE_TRX</th>\n",
       "      <th>PURCHASES_TRX</th>\n",
       "      <th>CREDIT_LIMIT</th>\n",
       "      <th>PAYMENTS</th>\n",
       "      <th>MINIMUM_PAYMENTS</th>\n",
       "      <th>PRC_FULL_PAYMENT</th>\n",
       "      <th>TENURE</th>\n",
       "    </tr>\n",
       "  </thead>\n",
       "  <tbody>\n",
       "    <tr>\n",
       "      <th>0</th>\n",
       "      <td>C10001</td>\n",
       "      <td>40.900749</td>\n",
       "      <td>0.818182</td>\n",
       "      <td>95.40</td>\n",
       "      <td>0.00</td>\n",
       "      <td>95.4</td>\n",
       "      <td>0.000000</td>\n",
       "      <td>0.166667</td>\n",
       "      <td>0.000000</td>\n",
       "      <td>0.083333</td>\n",
       "      <td>0.000000</td>\n",
       "      <td>0</td>\n",
       "      <td>2</td>\n",
       "      <td>1000.0</td>\n",
       "      <td>201.802084</td>\n",
       "      <td>139.509787</td>\n",
       "      <td>0.000000</td>\n",
       "      <td>12</td>\n",
       "    </tr>\n",
       "    <tr>\n",
       "      <th>1</th>\n",
       "      <td>C10002</td>\n",
       "      <td>3202.467416</td>\n",
       "      <td>0.909091</td>\n",
       "      <td>0.00</td>\n",
       "      <td>0.00</td>\n",
       "      <td>0.0</td>\n",
       "      <td>6442.945483</td>\n",
       "      <td>0.000000</td>\n",
       "      <td>0.000000</td>\n",
       "      <td>0.000000</td>\n",
       "      <td>0.250000</td>\n",
       "      <td>4</td>\n",
       "      <td>0</td>\n",
       "      <td>7000.0</td>\n",
       "      <td>4103.032597</td>\n",
       "      <td>1072.340217</td>\n",
       "      <td>0.222222</td>\n",
       "      <td>12</td>\n",
       "    </tr>\n",
       "    <tr>\n",
       "      <th>2</th>\n",
       "      <td>C10003</td>\n",
       "      <td>2495.148862</td>\n",
       "      <td>1.000000</td>\n",
       "      <td>773.17</td>\n",
       "      <td>773.17</td>\n",
       "      <td>0.0</td>\n",
       "      <td>0.000000</td>\n",
       "      <td>1.000000</td>\n",
       "      <td>1.000000</td>\n",
       "      <td>0.000000</td>\n",
       "      <td>0.000000</td>\n",
       "      <td>0</td>\n",
       "      <td>12</td>\n",
       "      <td>7500.0</td>\n",
       "      <td>622.066742</td>\n",
       "      <td>627.284787</td>\n",
       "      <td>0.000000</td>\n",
       "      <td>12</td>\n",
       "    </tr>\n",
       "    <tr>\n",
       "      <th>3</th>\n",
       "      <td>C10004</td>\n",
       "      <td>1666.670542</td>\n",
       "      <td>0.636364</td>\n",
       "      <td>1499.00</td>\n",
       "      <td>1499.00</td>\n",
       "      <td>0.0</td>\n",
       "      <td>205.788017</td>\n",
       "      <td>0.083333</td>\n",
       "      <td>0.083333</td>\n",
       "      <td>0.000000</td>\n",
       "      <td>0.083333</td>\n",
       "      <td>1</td>\n",
       "      <td>1</td>\n",
       "      <td>7500.0</td>\n",
       "      <td>0.000000</td>\n",
       "      <td>NaN</td>\n",
       "      <td>0.000000</td>\n",
       "      <td>12</td>\n",
       "    </tr>\n",
       "    <tr>\n",
       "      <th>4</th>\n",
       "      <td>C10005</td>\n",
       "      <td>817.714335</td>\n",
       "      <td>1.000000</td>\n",
       "      <td>16.00</td>\n",
       "      <td>16.00</td>\n",
       "      <td>0.0</td>\n",
       "      <td>0.000000</td>\n",
       "      <td>0.083333</td>\n",
       "      <td>0.083333</td>\n",
       "      <td>0.000000</td>\n",
       "      <td>0.000000</td>\n",
       "      <td>0</td>\n",
       "      <td>1</td>\n",
       "      <td>1200.0</td>\n",
       "      <td>678.334763</td>\n",
       "      <td>244.791237</td>\n",
       "      <td>0.000000</td>\n",
       "      <td>12</td>\n",
       "    </tr>\n",
       "  </tbody>\n",
       "</table>\n",
       "</div>"
      ],
      "text/plain": [
       "  CUST_ID      BALANCE  BALANCE_FREQUENCY  PURCHASES  ONEOFF_PURCHASES  \\\n",
       "0  C10001    40.900749           0.818182      95.40              0.00   \n",
       "1  C10002  3202.467416           0.909091       0.00              0.00   \n",
       "2  C10003  2495.148862           1.000000     773.17            773.17   \n",
       "3  C10004  1666.670542           0.636364    1499.00           1499.00   \n",
       "4  C10005   817.714335           1.000000      16.00             16.00   \n",
       "\n",
       "   INSTALLMENTS_PURCHASES  CASH_ADVANCE  PURCHASES_FREQUENCY  \\\n",
       "0                    95.4      0.000000             0.166667   \n",
       "1                     0.0   6442.945483             0.000000   \n",
       "2                     0.0      0.000000             1.000000   \n",
       "3                     0.0    205.788017             0.083333   \n",
       "4                     0.0      0.000000             0.083333   \n",
       "\n",
       "   ONEOFF_PURCHASES_FREQUENCY  PURCHASES_INSTALLMENTS_FREQUENCY  \\\n",
       "0                    0.000000                          0.083333   \n",
       "1                    0.000000                          0.000000   \n",
       "2                    1.000000                          0.000000   \n",
       "3                    0.083333                          0.000000   \n",
       "4                    0.083333                          0.000000   \n",
       "\n",
       "   CASH_ADVANCE_FREQUENCY  CASH_ADVANCE_TRX  PURCHASES_TRX  CREDIT_LIMIT  \\\n",
       "0                0.000000                 0              2        1000.0   \n",
       "1                0.250000                 4              0        7000.0   \n",
       "2                0.000000                 0             12        7500.0   \n",
       "3                0.083333                 1              1        7500.0   \n",
       "4                0.000000                 0              1        1200.0   \n",
       "\n",
       "      PAYMENTS  MINIMUM_PAYMENTS  PRC_FULL_PAYMENT  TENURE  \n",
       "0   201.802084        139.509787          0.000000      12  \n",
       "1  4103.032597       1072.340217          0.222222      12  \n",
       "2   622.066742        627.284787          0.000000      12  \n",
       "3     0.000000               NaN          0.000000      12  \n",
       "4   678.334763        244.791237          0.000000      12  "
      ]
     },
     "execution_count": 36,
     "metadata": {},
     "output_type": "execute_result"
    }
   ],
   "source": [
    "data.head()"
   ]
  },
  {
   "cell_type": "code",
   "execution_count": 62,
   "id": "da061b8f",
   "metadata": {},
   "outputs": [
    {
     "data": {
      "text/html": [
       "<div>\n",
       "<style scoped>\n",
       "    .dataframe tbody tr th:only-of-type {\n",
       "        vertical-align: middle;\n",
       "    }\n",
       "\n",
       "    .dataframe tbody tr th {\n",
       "        vertical-align: top;\n",
       "    }\n",
       "\n",
       "    .dataframe thead th {\n",
       "        text-align: right;\n",
       "    }\n",
       "</style>\n",
       "<table border=\"1\" class=\"dataframe\">\n",
       "  <thead>\n",
       "    <tr style=\"text-align: right;\">\n",
       "      <th></th>\n",
       "      <th>BALANCE</th>\n",
       "      <th>PAYMENTS</th>\n",
       "      <th>TENURE</th>\n",
       "    </tr>\n",
       "  </thead>\n",
       "  <tbody>\n",
       "    <tr>\n",
       "      <th>0</th>\n",
       "      <td>40.900749</td>\n",
       "      <td>201.802084</td>\n",
       "      <td>12</td>\n",
       "    </tr>\n",
       "    <tr>\n",
       "      <th>1</th>\n",
       "      <td>3202.467416</td>\n",
       "      <td>4103.032597</td>\n",
       "      <td>12</td>\n",
       "    </tr>\n",
       "    <tr>\n",
       "      <th>2</th>\n",
       "      <td>2495.148862</td>\n",
       "      <td>622.066742</td>\n",
       "      <td>12</td>\n",
       "    </tr>\n",
       "    <tr>\n",
       "      <th>4</th>\n",
       "      <td>817.714335</td>\n",
       "      <td>678.334763</td>\n",
       "      <td>12</td>\n",
       "    </tr>\n",
       "    <tr>\n",
       "      <th>5</th>\n",
       "      <td>1809.828751</td>\n",
       "      <td>1400.057770</td>\n",
       "      <td>12</td>\n",
       "    </tr>\n",
       "    <tr>\n",
       "      <th>...</th>\n",
       "      <td>...</td>\n",
       "      <td>...</td>\n",
       "      <td>...</td>\n",
       "    </tr>\n",
       "    <tr>\n",
       "      <th>8943</th>\n",
       "      <td>5.871712</td>\n",
       "      <td>58.644883</td>\n",
       "      <td>6</td>\n",
       "    </tr>\n",
       "    <tr>\n",
       "      <th>8945</th>\n",
       "      <td>28.493517</td>\n",
       "      <td>325.594462</td>\n",
       "      <td>6</td>\n",
       "    </tr>\n",
       "    <tr>\n",
       "      <th>8947</th>\n",
       "      <td>23.398673</td>\n",
       "      <td>81.270775</td>\n",
       "      <td>6</td>\n",
       "    </tr>\n",
       "    <tr>\n",
       "      <th>8948</th>\n",
       "      <td>13.457564</td>\n",
       "      <td>52.549959</td>\n",
       "      <td>6</td>\n",
       "    </tr>\n",
       "    <tr>\n",
       "      <th>8949</th>\n",
       "      <td>372.708075</td>\n",
       "      <td>63.165404</td>\n",
       "      <td>6</td>\n",
       "    </tr>\n",
       "  </tbody>\n",
       "</table>\n",
       "<p>8636 rows × 3 columns</p>\n",
       "</div>"
      ],
      "text/plain": [
       "          BALANCE     PAYMENTS  TENURE\n",
       "0       40.900749   201.802084      12\n",
       "1     3202.467416  4103.032597      12\n",
       "2     2495.148862   622.066742      12\n",
       "4      817.714335   678.334763      12\n",
       "5     1809.828751  1400.057770      12\n",
       "...           ...          ...     ...\n",
       "8943     5.871712    58.644883       6\n",
       "8945    28.493517   325.594462       6\n",
       "8947    23.398673    81.270775       6\n",
       "8948    13.457564    52.549959       6\n",
       "8949   372.708075    63.165404       6\n",
       "\n",
       "[8636 rows x 3 columns]"
      ]
     },
     "execution_count": 62,
     "metadata": {},
     "output_type": "execute_result"
    }
   ],
   "source": [
    "data1 =data.dropna()\n",
    "data1.isnull().sum()\n",
    "D2=data1.drop(['BALANCE_FREQUENCY','PURCHASES','ONEOFF_PURCHASES','INSTALLMENTS_PURCHASES','CASH_ADVANCE','PURCHASES_FREQUENCY','ONEOFF_PURCHASES_FREQUENCY','PURCHASES_INSTALLMENTS_FREQUENCY','CASH_ADVANCE_FREQUENCY','CASH_ADVANCE_TRX','PURCHASES_TRX','CREDIT_LIMIT','MINIMUM_PAYMENTS','PRC_FULL_PAYMENT'],axis=1)\n",
    "D2"
   ]
  },
  {
   "cell_type": "markdown",
   "id": "e5812181",
   "metadata": {},
   "source": [
    "# 2. Use hierarchical clustering to identify the inherent groupings within your data."
   ]
  },
  {
   "cell_type": "code",
   "execution_count": 73,
   "id": "b66f7d4f",
   "metadata": {},
   "outputs": [],
   "source": [
    "from sklearn.cluster import AgglomerativeClustering #Importing our clustering algorithm : Agglomerative\n",
    "model=AgglomerativeClustering(n_clusters=5, affinity='euclidean', linkage='complete')\n",
    "clust_labels=model.fit_predict(data1)  #Applying agglomerative algorithm with 5 clusters, using euclidean distance as a metric"
   ]
  },
  {
   "cell_type": "code",
   "execution_count": 74,
   "id": "b64a5f96",
   "metadata": {},
   "outputs": [
    {
     "data": {
      "text/html": [
       "<div>\n",
       "<style scoped>\n",
       "    .dataframe tbody tr th:only-of-type {\n",
       "        vertical-align: middle;\n",
       "    }\n",
       "\n",
       "    .dataframe tbody tr th {\n",
       "        vertical-align: top;\n",
       "    }\n",
       "\n",
       "    .dataframe thead th {\n",
       "        text-align: right;\n",
       "    }\n",
       "</style>\n",
       "<table border=\"1\" class=\"dataframe\">\n",
       "  <thead>\n",
       "    <tr style=\"text-align: right;\">\n",
       "      <th></th>\n",
       "      <th>0</th>\n",
       "    </tr>\n",
       "  </thead>\n",
       "  <tbody>\n",
       "    <tr>\n",
       "      <th>0</th>\n",
       "      <td>0</td>\n",
       "    </tr>\n",
       "    <tr>\n",
       "      <th>1</th>\n",
       "      <td>0</td>\n",
       "    </tr>\n",
       "    <tr>\n",
       "      <th>2</th>\n",
       "      <td>0</td>\n",
       "    </tr>\n",
       "    <tr>\n",
       "      <th>3</th>\n",
       "      <td>0</td>\n",
       "    </tr>\n",
       "    <tr>\n",
       "      <th>4</th>\n",
       "      <td>0</td>\n",
       "    </tr>\n",
       "    <tr>\n",
       "      <th>...</th>\n",
       "      <td>...</td>\n",
       "    </tr>\n",
       "    <tr>\n",
       "      <th>8631</th>\n",
       "      <td>0</td>\n",
       "    </tr>\n",
       "    <tr>\n",
       "      <th>8632</th>\n",
       "      <td>0</td>\n",
       "    </tr>\n",
       "    <tr>\n",
       "      <th>8633</th>\n",
       "      <td>0</td>\n",
       "    </tr>\n",
       "    <tr>\n",
       "      <th>8634</th>\n",
       "      <td>0</td>\n",
       "    </tr>\n",
       "    <tr>\n",
       "      <th>8635</th>\n",
       "      <td>0</td>\n",
       "    </tr>\n",
       "  </tbody>\n",
       "</table>\n",
       "<p>8636 rows × 1 columns</p>\n",
       "</div>"
      ],
      "text/plain": [
       "      0\n",
       "0     0\n",
       "1     0\n",
       "2     0\n",
       "3     0\n",
       "4     0\n",
       "...  ..\n",
       "8631  0\n",
       "8632  0\n",
       "8633  0\n",
       "8634  0\n",
       "8635  0\n",
       "\n",
       "[8636 rows x 1 columns]"
      ]
     },
     "execution_count": 74,
     "metadata": {},
     "output_type": "execute_result"
    }
   ],
   "source": [
    "agglomerative=pd.DataFrame(clust_labels)\n",
    "agglomerative"
   ]
  },
  {
   "cell_type": "markdown",
   "id": "156112eb",
   "metadata": {},
   "source": [
    "# 3. Plot the clusters. "
   ]
  },
  {
   "cell_type": "code",
   "execution_count": 80,
   "id": "faf73fb3",
   "metadata": {},
   "outputs": [
    {
     "data": {
      "text/plain": [
       "<matplotlib.colorbar.Colorbar at 0x1374c82d1f0>"
      ]
     },
     "execution_count": 80,
     "metadata": {},
     "output_type": "execute_result"
    },
    {
     "data": {
      "image/png": "[encoded data removed]",
      "text/plain": [
       "<Figure size 432x288 with 2 Axes>"
      ]
     },
     "metadata": {
      "needs_background": "light"
     },
     "output_type": "display_data"
    }
   ],
   "source": [
    "import matplotlib.pyplot as plt\n",
    "fig =plt.figure()\n",
    "ax = fig.add_subplot(111)\n",
    "scatter = ax.scatter (D2 ['BALANCE'] , D2[\"PAYMENTS\"],c=agglomerative1[0],s=50)\n",
    "ax.set_title(\"Agglomerative1 Clustering\")\n",
    "ax.set_xlabel(\"BALANCE\")\n",
    "ax.set_ylabel(\"PAYMENTS\")\n",
    "plt.colorbar(scatter)"
   ]
  },
  {
   "cell_type": "code",
   "execution_count": 79,
   "id": "51237b4d",
   "metadata": {},
   "outputs": [
    {
     "data": {
      "text/plain": [
       "<matplotlib.colorbar.Colorbar at 0x137534fd910>"
      ]
     },
     "execution_count": 79,
     "metadata": {},
     "output_type": "execute_result"
    },
    {
     "data": {
      "image/png": "[encoded data removed]",
      "text/plain": [
       "<Figure size 432x288 with 2 Axes>"
      ]
     },
     "metadata": {
      "needs_background": "light"
     },
     "output_type": "display_data"
    }
   ],
   "source": [
    "import matplotlib.pyplot as plt\n",
    "fig =plt.figure()\n",
    "ax = fig.add_subplot(111)\n",
    "scatter = ax.scatter (data1 ['BALANCE'] , data1[\"MINIMUM_PAYMENTS\"],c=agglomerative1[0],s=50)\n",
    "ax.set_title(\"Agglomerative Clustering\")\n",
    "ax.set_xlabel(\"BALANCE)\")\n",
    "ax.set_ylabel(\"MINIMUM_PAYMENTS\")\n",
    "plt.colorbar(scatter)"
   ]
  },
  {
   "cell_type": "code",
   "execution_count": null,
   "id": "7081aa7a",
   "metadata": {},
   "outputs": [],
   "source": [
    "d2=data.drop(\"CustomerID\", axis=1)"
   ]
  },
  {
   "cell_type": "code",
   "execution_count": null,
   "id": "f059e2c3",
   "metadata": {},
   "outputs": [],
   "source": [
    "import matplotlib.pyplot as plt\n",
    "fig =plt.figure()\n",
    "ax = fig.add_subplot(111)\n",
    "scatter = ax.scatter (D2 ['BALANCE'] , D2[\"PAYMENTS\"],c=agglomerative1[0],s=50)\n",
    "ax.set_title(\"Agglomerative1 Clustering\")\n",
    "ax.set_xlabel(\"BALANCE)\")\n",
    "ax.set_ylabel(\"PAYMENTS\")\n",
    "plt.colorbar(scatter)"
   ]
  },
  {
   "cell_type": "markdown",
   "id": "6c78d8eb",
   "metadata": {},
   "source": [
    "# 4. Plot the dendrogram. Use K-means clustering"
   ]
  },
  {
   "cell_type": "code",
   "execution_count": 41,
   "id": "0530737f",
   "metadata": {},
   "outputs": [
    {
     "data": {
      "image/png": "[encoded data removed]",
      "text/plain": [
       "<Figure size 720x504 with 1 Axes>"
      ]
     },
     "metadata": {
      "needs_background": "light"
     },
     "output_type": "display_data"
    }
   ],
   "source": [
    "import matplotlib.pyplot as plt\n",
    "import scipy.cluster.hierarchy as shc\n",
    "plt.figure(figsize=(10,7))\n",
    "plt.title(\"Customer Dendrograms\")\n",
    "dend=shc.dendrogram(shc.linkage(data, method=\"complete\"))"
   ]
  },
  {
   "cell_type": "code",
   "execution_count": 42,
   "id": "4116c893",
   "metadata": {},
   "outputs": [
    {
     "data": {
      "text/plain": [
       "KMeans(n_clusters=5, random_state=0)"
      ]
     },
     "execution_count": 42,
     "metadata": {},
     "output_type": "execute_result"
    }
   ],
   "source": [
    "from sklearn.cluster import KMeans  #Importing our clustering algorithm: KMeans\n",
    "kmeans=KMeans(n_clusters=5, random_state=0)  #Cluster our data by choosing 5 as number of clusters\n",
    "kmeans.fit(data)"
   ]
  },
  {
   "cell_type": "markdown",
   "id": "131d27ab",
   "metadata": {},
   "source": [
    "# 5. Try different K values and select the best one"
   ]
  },
  {
   "cell_type": "code",
   "execution_count": 44,
   "id": "41b09fd3",
   "metadata": {},
   "outputs": [
    {
     "name": "stdout",
     "output_type": "stream",
     "text": [
      "[[1.66503019e+03 9.14361713e-01 1.47503260e+03 9.18786902e+02\n",
      "  5.56646307e+02 8.28890360e+02 5.85030946e-01 3.32812272e-01\n",
      "  4.06692380e-01 1.18189873e-01 2.76840364e+00 2.11641853e+01\n",
      "  6.85898940e+03 2.03803373e+03 6.51760367e+02 2.01143389e-01\n",
      "  1.17613730e+01]\n",
      " [5.53273664e+03 9.61557868e-01 1.53395581e+03 9.31219725e+02\n",
      "  6.02812772e+02 3.87556288e+03 4.71996835e-01 2.62135945e-01\n",
      "  3.51735457e-01 3.31860533e-01 9.79839633e+00 2.14891180e+01\n",
      "  1.09134645e+04 4.08273785e+03 1.98483863e+03 6.94990561e-02\n",
      "  1.16712486e+01]\n",
      " [4.81833846e+03 9.15015009e-01 1.18136954e+04 8.44763973e+03\n",
      "  3.36625387e+03 5.20289245e+03 7.72304108e-01 6.27834342e-01\n",
      "  6.15939333e-01 2.06865937e-01 8.84684685e+00 8.97837838e+01\n",
      "  1.26891892e+04 1.89200826e+04 2.45458930e+03 3.59580649e-01\n",
      "  1.18558559e+01]\n",
      " [8.21415192e+02 8.73775090e-01 4.99297450e+02 2.39657323e+02\n",
      "  2.59953639e+02 4.97000151e+02 4.52674155e-01 1.29540009e-01\n",
      "  3.48045573e-01 1.12877530e-01 2.36258661e+00 9.44457275e+00\n",
      "  2.18507260e+03 9.15364897e+02 5.47190747e+02 1.51808172e-01\n",
      "  1.13960739e+01]\n",
      " [4.45124178e+03 9.85645947e-01 1.16328816e+03 1.68416053e+02\n",
      "  9.94872105e+02 1.00375484e+03 4.99401868e-01 4.90430000e-02\n",
      "  4.70295053e-01 8.89154474e-02 2.97368421e+00 2.24210526e+01\n",
      "  4.68815789e+03 1.63663139e+03 2.73619541e+04 5.55111512e-17\n",
      "  1.19210526e+01]]\n"
     ]
    }
   ],
   "source": [
    "kmeans.predict(data)\n",
    "print(kmeans.cluster_centers_)#Printing the coordinates of cluster centers."
   ]
  },
  {
   "cell_type": "code",
   "execution_count": 52,
   "id": "d0a3a67e",
   "metadata": {},
   "outputs": [],
   "source": [
    "Sum_of_squared_distances=[]\n",
    "K=range(1,15)\n",
    "for k in K:\n",
    "    km=KMeans(n_clusters=k)\n",
    "    km=km.fit(data)\n",
    "    Sum_of_squared_distances.append(km.inertia_) "
   ]
  },
  {
   "cell_type": "code",
   "execution_count": 55,
   "id": "27e24195",
   "metadata": {},
   "outputs": [
    {
     "data": {
      "image/png": "[encoded data removed]",
      "text/plain": [
       "<Figure size 432x288 with 1 Axes>"
      ]
     },
     "metadata": {
      "needs_background": "light"
     },
     "output_type": "display_data"
    }
   ],
   "source": [
    "plt.plot(K,Sum_of_squared_distances,'bx-')\n",
    "plt.xlabel('k')\n",
    "plt.ylabel('Sum_of_squared_distances')\n",
    "plt.title('Elown Method For Optimak K')\n",
    "plt.show()"
   ]
  },
  {
   "cell_type": "code",
   "execution_count": 56,
   "id": "2e0d9fb5",
   "metadata": {},
   "outputs": [
    {
     "data": {
      "text/plain": [
       "KMeans(n_clusters=2, random_state=0)"
      ]
     },
     "execution_count": 56,
     "metadata": {},
     "output_type": "execute_result"
    }
   ],
   "source": [
    "#Le best K-values est 2\n",
    "kmeans=KMeans(n_clusters=2, random_state=0)  #Cluster our data by choosing 5 as number of clusters\n",
    "kmeans.fit(data)"
   ]
  },
  {
   "cell_type": "markdown",
   "id": "49973de0",
   "metadata": {},
   "source": [
    "# 7. Compare the two results. "
   ]
  },
  {
   "cell_type": "code",
   "execution_count": null,
   "id": "0964881d",
   "metadata": {},
   "outputs": [],
   "source": []
  }
 ],
 "metadata": {
  "kernelspec": {
   "display_name": "Python 3 (ipykernel)",
   "language": "python",
   "name": "python3"
  },
  "language_info": {
   "codemirror_mode": {
    "name": "ipython",
    "version": 3
   },
   "file_extension": ".py",
   "mimetype": "text/x-python",
   "name": "python",
   "nbconvert_exporter": "python",
   "pygments_lexer": "ipython3",
   "version": "3.9.12"
  }
 },
 "nbformat": 4,
 "nbformat_minor": 5
}
